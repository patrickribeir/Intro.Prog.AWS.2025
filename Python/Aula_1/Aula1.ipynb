{
 "cells": [
  {
   "cell_type": "markdown",
   "id": "fd1f2c9f",
   "metadata": {},
   "source": [
    "# Python\n",
    "### primeira aula\n"
   ]
  },
  {
   "cell_type": "code",
   "execution_count": 10,
   "id": "1c971ea9",
   "metadata": {},
   "outputs": [],
   "source": [
    "num1, num2 = input('inserir dois números: ') , input()"
   ]
  },
  {
   "cell_type": "markdown",
   "id": "38251bea",
   "metadata": {},
   "source": [
    "diferentes formas de fazermos print"
   ]
  },
  {
   "cell_type": "code",
   "execution_count": null,
   "id": "028daaf5",
   "metadata": {},
   "outputs": [
    {
     "name": "stdout",
     "output_type": "stream",
     "text": [
      "Ruben 20 70\n",
      "Ruben tem 20 anos e pesa 70 quilos\n",
      "Olá Ruben com a idade de 20\n",
      "Olá Ruben com a idade de 20\n",
      "Ruben - 20 - 70 ... \n",
      "               Ruben \n",
      "#######Ruben######## \n"
     ]
    }
   ],
   "source": [
    "nome = \"Ruben\"\n",
    "Idade = 20 \n",
    "peso = 70\n",
    "print (nome, Idade, peso)\n",
    "print (f'{nome} tem {Idade} anos e pesa {peso} quilos')\n",
    "print (\"Olá \" + nome + \" com a idade de \" + str(Idade))\n",
    "print (f'Olá {nome} com a idade de {Idade}')\n",
    "print(nome, Idade, peso, sep=' - ' , end=' ... \\n') \n",
    "print (\"{0:>20} \".format(nome))\n",
    "print (\"{0:#^20} \".format(nome))\n",
    "\n"
   ]
  },
  {
   "cell_type": "markdown",
   "id": "6ab69325",
   "metadata": {},
   "source": [
    "Decimais"
   ]
  },
  {
   "cell_type": "code",
   "execution_count": 23,
   "id": "24ae00e6",
   "metadata": {},
   "outputs": [
    {
     "name": "stdout",
     "output_type": "stream",
     "text": [
      "10.9834598\n",
      "10.98\n"
     ]
    }
   ],
   "source": [
    "val  = 10.9834598\n",
    "print(val)\n",
    "print(f'{val:.2f}')"
   ]
  },
  {
   "cell_type": "markdown",
   "id": "caec5679",
   "metadata": {},
   "source": [
    "estruturas de decisão"
   ]
  },
  {
   "cell_type": "code",
   "execution_count": null,
   "id": "52ca083a",
   "metadata": {},
   "outputs": [
    {
     "name": "stdout",
     "output_type": "stream",
     "text": [
      "n não é igual a 5\n",
      "Outra maneira de fazer\n",
      "O numero não é igual a 5\n"
     ]
    }
   ],
   "source": [
    "n = 3\n",
    "if n == 5:\n",
    "    print(\"n é igual a 5\")\n",
    "else: \n",
    "    print(\"n não é igual a 5\")\n",
    "    \n",
    "print(\"Outra maneira de fazer\")\n",
    "print(\"O numero é igual a 5\" if n == 5 else \"O numero não é igual a 5\")"
   ]
  },
  {
   "cell_type": "code",
   "execution_count": 36,
   "id": "4345c74b",
   "metadata": {},
   "outputs": [
    {
     "name": "stdout",
     "output_type": "stream",
     "text": [
      "5\n",
      "10\n",
      "c é igual a 6\n"
     ]
    }
   ],
   "source": [
    "a, b = 5, 10\n",
    "\n",
    "min = a if a<b else b\n",
    "\n",
    "print(min)\n",
    "\n",
    "print((a,b) [a<b]) \n",
    "\"\"\" \n",
    "se for verdadeiro imprime o indice 1. se não imprime o indice 0 \n",
    "\"\"\"\n",
    "c = 6\n",
    "\n",
    "if c == 5:\n",
    "    print(\"c é igual a 5\")\n",
    "elif c == 6:\n",
    "    print(\"c é igual a 6\")\n",
    "elif c == 7:\n",
    "    print(\"c é igual a 7\")\n",
    "else:\n",
    "    print(\"outra coisa qualquer\")"
   ]
  },
  {
   "cell_type": "markdown",
   "id": "7022b2e3",
   "metadata": {},
   "source": [
    "Estruturas de repetição While"
   ]
  },
  {
   "cell_type": "code",
   "execution_count": 58,
   "id": "bfd1faa9",
   "metadata": {},
   "outputs": [
    {
     "name": "stdout",
     "output_type": "stream",
     "text": [
      " é impar\n",
      " é impar\n",
      "Valores intercalados a, b, c\n"
     ]
    }
   ],
   "source": [
    "a = 5\n",
    "while a < 10:\n",
    "    a += 1\n",
    "    if  a % 2 == 1:\n",
    "        print(f' é impar')\n",
    "    continue\n",
    "    print(a)\n",
    "    \n",
    "b = (\"a\",\"b\",\"c\")\n",
    "   \n",
    "print(\"Valores intercalados \" + \", \".join(b) )\n",
    "    "
   ]
  },
  {
   "cell_type": "markdown",
   "id": "3b399777",
   "metadata": {},
   "source": [
    "Estrutura de repeticao FOR"
   ]
  },
  {
   "cell_type": "code",
   "execution_count": 80,
   "id": "c800554a",
   "metadata": {},
   "outputs": [
    {
     "name": "stdout",
     "output_type": "stream",
     "text": [
      "1\n",
      "2\n",
      "terminou o loop  2\n"
     ]
    }
   ],
   "source": [
    "for x in range(1,3):\n",
    "   print(x)\n",
    "print(\"terminou o loop \" , x)"
   ]
  },
  {
   "cell_type": "markdown",
   "id": "995a9059",
   "metadata": {},
   "source": [
    "Nested Loop"
   ]
  },
  {
   "cell_type": "code",
   "execution_count": 90,
   "id": "1e84eb97",
   "metadata": {},
   "outputs": [
    {
     "name": "stdout",
     "output_type": "stream",
     "text": [
      "A caixa A é da cor  vermelha\n",
      "A caixa A é da cor  azul\n",
      "A caixa A é da cor  verde\n",
      "A caixa B é da cor  vermelha\n",
      "A caixa B é da cor  azul\n",
      "A caixa B é da cor  verde\n",
      "A caixa C é da cor  vermelha\n",
      "A caixa C é da cor  azul\n",
      "A caixa C é da cor  verde\n",
      "caixa B\n",
      "[('caixa A', 'vermelha'), ('caixa B', 'azul'), ('caixa C', 'verde')]\n"
     ]
    }
   ],
   "source": [
    "caixa = ['caixa A', 'caixa B', 'caixa C']\n",
    "cores  = ['vermelha', 'azul', 'verde']\n",
    "\n",
    "for i in caixa:\n",
    "    for j in cores:\n",
    "        print(f'A {i} é da cor  {j}')\n",
    "        \n",
    "x = list(zip(caixa, cores))\n",
    "print(x[1][0])\n",
    "print(x)\n"
   ]
  },
  {
   "cell_type": "markdown",
   "id": "ce3e3bce",
   "metadata": {},
   "source": [
    "Exercicio 1\n",
    "Crie uma contagem de lançamento , onde o utilizador indique um valor entre 50 e 70 e o programa conte de 5 em 5 até 100.\n"
   ]
  },
  {
   "cell_type": "code",
   "execution_count": 96,
   "id": "8a2e168b",
   "metadata": {},
   "outputs": [
    {
     "name": "stdout",
     "output_type": "stream",
     "text": [
      "70\n",
      "75\n",
      "80\n",
      "85\n",
      "90\n",
      "95\n",
      "100\n"
     ]
    }
   ],
   "source": [
    "\n",
    "while True:\n",
    "    num = int(input(\"Digite um número entre 50 e 70, se faz o favor. \"))\n",
    "    \n",
    "    if num< 50 or num > 70:\n",
    "        print(\"Número fora do intervalo\")\n",
    "    else: \n",
    "        for i in range(num,101,5):\n",
    "            print(i)\n",
    "        break"
   ]
  },
  {
   "cell_type": "markdown",
   "id": "cf851d68",
   "metadata": {},
   "source": [
    "exercicio 2\n",
    "Crie uma contagem de lançamento , onde o utilizador indique o numero de partida e o programa decremente valor a valor até 0.\n",
    "\n"
   ]
  },
  {
   "cell_type": "code",
   "execution_count": 97,
   "id": "5bde3d04",
   "metadata": {},
   "outputs": [
    {
     "name": "stdout",
     "output_type": "stream",
     "text": [
      "Número fora do intervalo\n",
      "Número fora do intervalo\n",
      "10\n",
      "9\n",
      "8\n",
      "7\n",
      "6\n",
      "5\n",
      "4\n",
      "3\n",
      "2\n",
      "1\n",
      "0\n"
     ]
    }
   ],
   "source": [
    "while True:\n",
    "   \n",
    "    num = int(input(\"digite um numero de 0 a 20\"))\n",
    "    if num < 0 or num > 20:\n",
    "        print(\"Número fora do intervalo\")\n",
    "    else:  \n",
    "        for i in range(num,-1,-1):\n",
    "            print(i)\n",
    "        break"
   ]
  },
  {
   "cell_type": "code",
   "execution_count": 99,
   "id": "d5bf3103",
   "metadata": {},
   "outputs": [
    {
     "name": "stdout",
     "output_type": "stream",
     "text": [
      "ASASD\n"
     ]
    }
   ],
   "source": [
    "nome = input(\"Qual é o seu nome? \")\n",
    "print(nome.upper())"
   ]
  }
 ],
 "metadata": {
  "kernelspec": {
   "display_name": "Python 3",
   "language": "python",
   "name": "python3"
  },
  "language_info": {
   "codemirror_mode": {
    "name": "ipython",
    "version": 3
   },
   "file_extension": ".py",
   "mimetype": "text/x-python",
   "name": "python",
   "nbconvert_exporter": "python",
   "pygments_lexer": "ipython3",
   "version": "3.9.6"
  }
 },
 "nbformat": 4,
 "nbformat_minor": 5
}
