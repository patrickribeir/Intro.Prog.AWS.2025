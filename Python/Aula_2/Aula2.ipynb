{
 "cells": [
  {
   "cell_type": "markdown",
   "id": "084d04f3",
   "metadata": {},
   "source": [
    "### aula2 \n",
    "### Strings"
   ]
  },
  {
   "cell_type": "code",
   "execution_count": 57,
   "id": "88cbe660",
   "metadata": {},
   "outputs": [
    {
     "name": "stdout",
     "output_type": "stream",
     "text": [
      "ola mundo, mais informacao\n",
      "Tamanho do texto:    26\n",
      "Upper  OLA MUNDO, MAIS INFORMACAO\n",
      "ola mundo, mais informacao\n",
      "ola mundo, mais informacao\n",
      "Ola mundo, mais informacao\n",
      "['ola mundo', ' mais informacao']\n",
      " mais informacao\n",
      "-----====Debora kufne====----\n",
      "True\n",
      "False\n",
      "-----====Debora cristiane leite outro nome kufne====---- \n"
     ]
    }
   ],
   "source": [
    "mensagem = 'ola mundo, mais informacao'\n",
    "\n",
    "print(mensagem)\n",
    "\n",
    "print(\"Tamanho do texto:   \" , len(mensagem))\n",
    "\n",
    "print(\"Upper \" , mensagem.upper())\n",
    "\n",
    "print(mensagem)\n",
    "\n",
    "print(mensagem.replace(\"olá\", \"adeus\"))\n",
    "\n",
    "print(mensagem.capitalize())\n",
    "\n",
    "print(mensagem.split(','))\n",
    "partesDoTexto = mensagem.split(',')\n",
    "print(partesDoTexto[1])\n",
    "\n",
    "nome = \"-----====Debora cristiane leite outro nome kufne====---- \"\n",
    "nomeSeparado = nome.split()\n",
    "print(nomeSeparado[0], nomeSeparado[-1])\n",
    "\n",
    "\n",
    "mensagem2 = \"Olá\"\n",
    "print(mensagem2.isalpha())\n",
    "mensagem3 = \"123A\"\n",
    "print(mensagem3.isdigit())\n",
    "\n",
    "print(nome.rstrip(\"=-\"))"
   ]
  },
  {
   "cell_type": "code",
   "execution_count": null,
   "id": "251f35ae",
   "metadata": {},
   "outputs": [],
   "source": []
  },
  {
   "cell_type": "markdown",
   "id": "070d6dff",
   "metadata": {},
   "source": [
    "F-Strings"
   ]
  },
  {
   "cell_type": "code",
   "execution_count": 64,
   "id": "4cd05913",
   "metadata": {},
   "outputs": [
    {
     "name": "stdout",
     "output_type": "stream",
     "text": [
      "mensagem  aula de python\n",
      "mensagem aula de python \n",
      "pontencia  2 com  3 = 8\n",
      "uma divisao com casas decimais 0.67 \n"
     ]
    }
   ],
   "source": [
    "msg = 'aula de python'\n",
    "print(\"mensagem \" , msg)\n",
    "\n",
    "print(f'mensagem {msg} ')\n",
    "\n",
    "print(f'pontencia  2 com  3 = {2**3}')\n",
    "\n",
    "print(f'uma divisao com casas decimais {2/3 :.2f} ' )"
   ]
  },
  {
   "cell_type": "markdown",
   "id": "cbd248cf",
   "metadata": {},
   "source": [
    "Contagem de Vogais e Manipulação de Texto"
   ]
  },
  {
   "cell_type": "code",
   "execution_count": 71,
   "id": "3709a9cd",
   "metadata": {},
   "outputs": [
    {
     "name": "stdout",
     "output_type": "stream",
     "text": [
      "E\n",
      "e\n",
      "o\n",
      "Encontrei 3 vogais dentro do texto\n",
      "encontrei 3 vogais dentro do texto \n"
     ]
    }
   ],
   "source": [
    "texto = 'Exemplo'\n",
    "vogais = 'aeiou'\n",
    "contador = 0\n",
    "for letra in texto:\n",
    "    if letra.lower() in vogais:\n",
    "        contador += 1 \n",
    "        print(letra)\n",
    "        \n",
    "print(f\"Encontrei {contador} vogais dentro do texto\")\n",
    "\n",
    "print(f\"encontrei {sum(1 for letra in texto if letra.lower() in vogais)} vogais dentro do texto \") "
   ]
  },
  {
   "cell_type": "markdown",
   "id": "cb732903",
   "metadata": {},
   "source": [
    "Indexação e Fatiamento"
   ]
  },
  {
   "cell_type": "code",
   "execution_count": 79,
   "id": "33cca160",
   "metadata": {},
   "outputs": [
    {
     "name": "stdout",
     "output_type": "stream",
     "text": [
      "E\n",
      "Esta\n",
      "seca\n",
      "aces res a átse alua atsE\n",
      "Esta - aula - está - a - ser - seca\n"
     ]
    }
   ],
   "source": [
    "frase = \"Esta aula está a ser seca\"\n",
    "print(frase[0])\n",
    "print(frase[:4])\n",
    "print(frase[-4:])\n",
    "print(frase[::-1])\n",
    "\n",
    "palavrasDaFrase = frase.split()\n",
    "\n",
    "print(\" - \" .join(palavrasDaFrase))"
   ]
  },
  {
   "cell_type": "markdown",
   "id": "d31bab06",
   "metadata": {},
   "source": [
    "Pesquisa"
   ]
  },
  {
   "cell_type": "code",
   "execution_count": 84,
   "id": "19b9b91f",
   "metadata": {},
   "outputs": [
    {
     "name": "stdout",
     "output_type": "stream",
     "text": [
      "True\n"
     ]
    }
   ],
   "source": [
    "texto = ''' esta turma\n",
    "é \n",
    "fantastica\n",
    "'''\n",
    "palavra =\"tastica\"\n",
    "print(palavra in texto)"
   ]
  }
 ],
 "metadata": {
  "kernelspec": {
   "display_name": "Python 3",
   "language": "python",
   "name": "python3"
  },
  "language_info": {
   "codemirror_mode": {
    "name": "ipython",
    "version": 3
   },
   "file_extension": ".py",
   "mimetype": "text/x-python",
   "name": "python",
   "nbconvert_exporter": "python",
   "pygments_lexer": "ipython3",
   "version": "3.9.6"
  }
 },
 "nbformat": 4,
 "nbformat_minor": 5
}
