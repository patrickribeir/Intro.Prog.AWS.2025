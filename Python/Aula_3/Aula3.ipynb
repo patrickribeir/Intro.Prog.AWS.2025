{
 "cells": [
  {
   "cell_type": "markdown",
   "id": "2c52efa7",
   "metadata": {},
   "source": [
    "# Aula3\n",
    "### Listas"
   ]
  },
  {
   "cell_type": "code",
   "execution_count": 7,
   "id": "1189149d",
   "metadata": {},
   "outputs": [
    {
     "name": "stdout",
     "output_type": "stream",
     "text": [
      "['caixa azul', 88]\n"
     ]
    }
   ],
   "source": [
    "caixas = [\"caixa preta\", \"caixa branca\", \"caixa azul\", 88]\n",
    "\n",
    "print(caixas[-2:])"
   ]
  },
  {
   "cell_type": "markdown",
   "id": "42512a27",
   "metadata": {},
   "source": [
    "# Função Len"
   ]
  },
  {
   "cell_type": "code",
   "execution_count": 9,
   "id": "ed260b0f",
   "metadata": {},
   "outputs": [
    {
     "name": "stdout",
     "output_type": "stream",
     "text": [
      "4\n"
     ]
    }
   ],
   "source": [
    "caixas = [\"caixa preta\", \"caixa branca\", \"caixa azul\", 88]\n",
    "print(len(caixas))"
   ]
  },
  {
   "cell_type": "markdown",
   "id": "ec194011",
   "metadata": {},
   "source": [
    "# Adicionar e remover elementos"
   ]
  },
  {
   "cell_type": "code",
   "execution_count": 20,
   "id": "dd5dce14",
   "metadata": {},
   "outputs": [
    {
     "name": "stdout",
     "output_type": "stream",
     "text": [
      "['caixa preta', 'caixa branca', 'caixa azul', 88, 'Caixa Amarela']\n",
      "['caixa preta', 'Caixa verde', 'caixa branca', 'caixa azul', 88, 'Caixa Amarela']\n",
      "['caixa preta', 'caixa branca', 'caixa azul', 88, 'Caixa Amarela']\n",
      "['caixa preta', 'caixa branca', 88, 'Caixa Amarela']\n",
      "['Caixa Amarela', 'caixa branca', 'caixa preta']\n",
      "['caixa preta', 'caixa branca', 'Caixa Amarela']\n"
     ]
    }
   ],
   "source": [
    "caixas = [\"caixa preta\", \"caixa branca\", \"caixa azul\", 88]\n",
    "\n",
    "caixas.append(\"Caixa Amarela\")\n",
    "\n",
    "print(caixas)\n",
    "\n",
    "caixas.insert(1, \"Caixa verde\")\n",
    "\n",
    "print(caixas)\n",
    "\n",
    "caixas.pop(1)\n",
    "print(caixas)\n",
    "\n",
    "caixas.remove(\"caixa azul\")\n",
    "print(caixas)\n",
    "caixas.remove(88)\n",
    "caixas.sort()\n",
    "print(caixas)\n",
    "\n",
    "caixas.sort(reverse=True)\n",
    "print(caixas)"
   ]
  }
 ],
 "metadata": {
  "kernelspec": {
   "display_name": "Python 3",
   "language": "python",
   "name": "python3"
  },
  "language_info": {
   "codemirror_mode": {
    "name": "ipython",
    "version": 3
   },
   "file_extension": ".py",
   "mimetype": "text/x-python",
   "name": "python",
   "nbconvert_exporter": "python",
   "pygments_lexer": "ipython3",
   "version": "3.9.6"
  }
 },
 "nbformat": 4,
 "nbformat_minor": 5
}
